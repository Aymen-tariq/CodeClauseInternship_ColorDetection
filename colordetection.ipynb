{
  "nbformat": 4,
  "nbformat_minor": 0,
  "metadata": {
    "colab": {
      "provenance": []
    },
    "kernelspec": {
      "name": "python3",
      "display_name": "Python 3"
    },
    "language_info": {
      "name": "python"
    }
  },
  "cells": [
    {
      "cell_type": "code",
      "source": [
        "!unzip /content/yellow.zip -d /content"
      ],
      "metadata": {
        "id": "O19nt2GOCKwE",
        "colab": {
          "base_uri": "https://localhost:8080/"
        },
        "outputId": "1e7e8242-40b6-482b-d2b2-61123f6db8fb"
      },
      "execution_count": 18,
      "outputs": [
        {
          "output_type": "stream",
          "name": "stdout",
          "text": [
            "Archive:  /content/yellow.zip\n",
            " extracting: /content/yellow.jpg     \n"
          ]
        }
      ]
    },
    {
      "cell_type": "code",
      "source": [
        "import cv2\n",
        "import numpy\n",
        "import os\n",
        "from sklearn.preprocessing import OneHotEncoder\n",
        "import pandas as pd\n",
        "from sklearn.model_selection import train_test_split\n",
        "import tensorflow as tf\n",
        "from tensorflow.keras.models import Sequential\n",
        "from tensorflow.keras.layers import Conv2D, MaxPooling2D, Flatten, Dense, Dropout\n",
        "\n"
      ],
      "metadata": {
        "id": "0xrzK-r0aI0N"
      },
      "execution_count": 4,
      "outputs": []
    },
    {
      "cell_type": "markdown",
      "source": [
        "**Fetching dataset images along with respective labels**"
      ],
      "metadata": {
        "id": "cXhpTTaDANEC"
      }
    },
    {
      "cell_type": "code",
      "source": [
        "data=[]  #array to\n",
        "labels=[]\n",
        "for classes in os.listdir('Brown'):\n",
        "  images=cv2.imread(os.path.join('Brown', classes))\n",
        "  if images is not None:\n",
        "    images=cv2.resize(images,(128,128), cv2.INTER_LINEAR)\n",
        "    data.append(images)\n",
        "    labels.append('brown')\n",
        "\n",
        "for classes in os.listdir('Black'):\n",
        "  images=cv2.imread(os.path.join('Black', classes))\n",
        "  if images is not None:\n",
        "    images=cv2.resize(images,(128,128), cv2.INTER_LINEAR)\n",
        "    data.append(images)\n",
        "    labels.append('black')\n",
        "\n",
        "for classes in os.listdir('red'):\n",
        "  images=cv2.imread(os.path.join('red', classes))\n",
        "  if images is not None:\n",
        "    images=cv2.resize(images,(128,128), cv2.INTER_LINEAR)\n",
        "    data.append(images)\n",
        "    labels.append('Red')\n",
        "\n",
        "for classes in os.listdir('yellow'):\n",
        "  images=cv2.imread(os.path.join('yellow', classes))\n",
        "  if images is not None:\n",
        "    images=cv2.resize(images,(128,128), cv2.INTER_LINEAR)\n",
        "    data.append(images)\n",
        "    labels.append('Yellow')\n",
        "\n",
        "for classes in os.listdir('Blue'):\n",
        "  images=cv2.imread(os.path.join('Blue', classes))\n",
        "  if images is not None:\n",
        "    images=cv2.resize(images,(128,128), cv2.INTER_LINEAR)\n",
        "    data.append(images)\n",
        "    labels.append('blue')\n",
        "\n",
        "for classes in os.listdir('White'):\n",
        "  images=cv2.imread(os.path.join('White', classes))\n",
        "  if images is not None:\n",
        "    images=cv2.resize(images,(128,128), cv2.INTER_LINEAR)\n",
        "    data.append(images)\n",
        "    labels.append('white')\n",
        "\n",
        "for classes in os.listdir('orange'):\n",
        "  images=cv2.imread(os.path.join('orange', classes))\n",
        "  if images is not None:\n",
        "    images=cv2.resize(images,(128,128), cv2.INTER_LINEAR)\n",
        "    data.append(images)\n",
        "    labels.append('Orange')\n",
        "\n",
        "for classes in os.listdir('Violet'):\n",
        "  images=cv2.imread(os.path.join('Violet', classes))\n",
        "  if images is not None:\n",
        "    images=cv2.resize(images,(128,128), cv2.INTER_LINEAR)\n",
        "    data.append(images)\n",
        "    labels.append('violet')\n",
        "\n",
        "for classes in os.listdir('Green'):\n",
        "  images=cv2.imread(os.path.join('Green', classes))\n",
        "  if images is not None:\n",
        "    images=cv2.resize(images,(128,128), cv2.INTER_LINEAR)\n",
        "    data.append(images)\n",
        "    labels.append('green')\n",
        "\n"
      ],
      "metadata": {
        "id": "tKLOAJWCeZkw"
      },
      "execution_count": 5,
      "outputs": []
    },
    {
      "cell_type": "code",
      "source": [
        "data=numpy.array(data)\n",
        "labels=numpy.array(labels)\n"
      ],
      "metadata": {
        "id": "Fs3ZzpWBjxZy",
        "colab": {
          "base_uri": "https://localhost:8080/"
        },
        "outputId": "cb99e9f4-69e4-4eda-c3b0-084fb3addfa7"
      },
      "execution_count": 6,
      "outputs": [
        {
          "output_type": "stream",
          "name": "stdout",
          "text": [
            "['brown' 'brown' 'brown' 'brown' 'brown' 'brown' 'brown' 'brown' 'brown'\n",
            " 'brown' 'brown' 'brown' 'brown' 'brown' 'brown' 'brown' 'brown' 'brown'\n",
            " 'brown' 'brown' 'black' 'black' 'black' 'black' 'black' 'black' 'black'\n",
            " 'black' 'black' 'black' 'black' 'Red' 'Red' 'Red' 'Red' 'Red' 'Red' 'Red'\n",
            " 'Red' 'Red' 'Red' 'Red' 'Red' 'Yellow' 'Yellow' 'Yellow' 'Yellow'\n",
            " 'Yellow' 'Yellow' 'Yellow' 'Yellow' 'Yellow' 'Yellow' 'blue' 'blue'\n",
            " 'blue' 'blue' 'blue' 'blue' 'blue' 'blue' 'blue' 'blue' 'white' 'white'\n",
            " 'white' 'white' 'white' 'white' 'white' 'white' 'white' 'white' 'white'\n",
            " 'white' 'white' 'white' 'white' 'white' 'white' 'Orange' 'Orange'\n",
            " 'Orange' 'Orange' 'Orange' 'Orange' 'Orange' 'Orange' 'Orange' 'Orange'\n",
            " 'violet' 'violet' 'violet' 'violet' 'violet' 'violet' 'violet' 'violet'\n",
            " 'violet' 'violet' 'violet' 'violet' 'violet' 'violet' 'violet' 'violet'\n",
            " 'violet' 'violet' 'violet' 'violet' 'green' 'green' 'green' 'green'\n",
            " 'green' 'green' 'green']\n"
          ]
        }
      ]
    },
    {
      "cell_type": "code",
      "source": [
        "encoder=OneHotEncoder()\n",
        "numLabel=encoder.fit_transform(numpy.array(labels).reshape(-1,1)).toarray() #converting categorical labels to numerical labels\n",
        "categories=['Orange', 'Red', 'Yellow', 'black', 'blue', 'brown', 'green',\n",
        "       'violet', 'white']"
      ],
      "metadata": {
        "id": "Zw3Jb4QDJyEV"
      },
      "execution_count": 32,
      "outputs": []
    },
    {
      "cell_type": "markdown",
      "source": [
        "**Model Training**"
      ],
      "metadata": {
        "id": "bEMkv8VGaOdL"
      }
    },
    {
      "cell_type": "code",
      "source": [
        "X=data\n",
        "Y=numLabel\n",
        "\n",
        "X_train, X_test, Y_train, Y_test = train_test_split(X, Y, test_size=0.2,shuffle=True)\n",
        "\n",
        "model = Sequential([\n",
        "    Conv2D(32, (3, 3), activation='relu', input_shape=(128, 128, 3)),\n",
        "    MaxPooling2D((2, 2)),\n",
        "    Conv2D(64, (3, 3), activation='relu'),\n",
        "    MaxPooling2D((2, 2)),\n",
        "    Conv2D(128, (3, 3), activation='relu'),\n",
        "    MaxPooling2D((2, 2)),\n",
        "    Flatten(),\n",
        "    Dense(128, activation='relu'),\n",
        "    Dropout(0.5),\n",
        "    Dense(9, activation='softmax')\n",
        "])\n",
        "\n",
        "model.compile(optimizer='adam', loss='categorical_crossentropy', metrics=['accuracy']) #compiling the model\n",
        "\n",
        "model.fit(X_train, Y_train, batch_size=32, epochs=128, validation_data=(X_test,Y_test)) #training the model\n"
      ],
      "metadata": {
        "id": "jUYm6H5QtcVr",
        "colab": {
          "base_uri": "https://localhost:8080/"
        },
        "outputId": "40a8ea04-e67a-4eea-dccb-b756aa4d93c9"
      },
      "execution_count": 8,
      "outputs": [
        {
          "output_type": "stream",
          "name": "stdout",
          "text": [
            "Epoch 1/128\n",
            "3/3 [==============================] - 6s 2s/step - loss: 128.1059 - accuracy: 0.1183 - val_loss: 31.3515 - val_accuracy: 0.2500\n",
            "Epoch 2/128\n",
            "3/3 [==============================] - 4s 1s/step - loss: 25.2466 - accuracy: 0.3226 - val_loss: 4.5994 - val_accuracy: 0.5833\n",
            "Epoch 3/128\n",
            "3/3 [==============================] - 3s 1s/step - loss: 4.5746 - accuracy: 0.3226 - val_loss: 1.7895 - val_accuracy: 0.7083\n",
            "Epoch 4/128\n",
            "3/3 [==============================] - 3s 1s/step - loss: 2.8678 - accuracy: 0.4301 - val_loss: 1.5597 - val_accuracy: 0.6250\n",
            "Epoch 5/128\n",
            "3/3 [==============================] - 4s 2s/step - loss: 1.7192 - accuracy: 0.5054 - val_loss: 0.7771 - val_accuracy: 0.7500\n",
            "Epoch 6/128\n",
            "3/3 [==============================] - 3s 1s/step - loss: 1.2891 - accuracy: 0.5699 - val_loss: 0.8555 - val_accuracy: 0.6667\n",
            "Epoch 7/128\n",
            "3/3 [==============================] - 4s 1s/step - loss: 1.4862 - accuracy: 0.5484 - val_loss: 0.7922 - val_accuracy: 0.6250\n",
            "Epoch 8/128\n",
            "3/3 [==============================] - 5s 2s/step - loss: 0.9581 - accuracy: 0.6452 - val_loss: 0.8745 - val_accuracy: 0.6667\n",
            "Epoch 9/128\n",
            "3/3 [==============================] - 4s 1s/step - loss: 0.9835 - accuracy: 0.6882 - val_loss: 0.5968 - val_accuracy: 0.7500\n",
            "Epoch 10/128\n",
            "3/3 [==============================] - 3s 1s/step - loss: 0.8851 - accuracy: 0.6989 - val_loss: 0.7539 - val_accuracy: 0.7917\n",
            "Epoch 11/128\n",
            "3/3 [==============================] - 3s 1s/step - loss: 0.9230 - accuracy: 0.6667 - val_loss: 0.5381 - val_accuracy: 0.7917\n",
            "Epoch 12/128\n",
            "3/3 [==============================] - 5s 2s/step - loss: 0.9084 - accuracy: 0.6559 - val_loss: 0.5526 - val_accuracy: 0.7917\n",
            "Epoch 13/128\n",
            "3/3 [==============================] - 3s 1s/step - loss: 0.9286 - accuracy: 0.6774 - val_loss: 0.6134 - val_accuracy: 0.8333\n",
            "Epoch 14/128\n",
            "3/3 [==============================] - 3s 1s/step - loss: 0.8343 - accuracy: 0.6989 - val_loss: 0.7850 - val_accuracy: 0.7500\n",
            "Epoch 15/128\n",
            "3/3 [==============================] - 3s 1s/step - loss: 0.7438 - accuracy: 0.7097 - val_loss: 1.0590 - val_accuracy: 0.7500\n",
            "Epoch 16/128\n",
            "3/3 [==============================] - 4s 1s/step - loss: 0.5318 - accuracy: 0.7957 - val_loss: 0.7768 - val_accuracy: 0.8750\n",
            "Epoch 17/128\n",
            "3/3 [==============================] - 3s 1s/step - loss: 0.6363 - accuracy: 0.7419 - val_loss: 0.8823 - val_accuracy: 0.8333\n",
            "Epoch 18/128\n",
            "3/3 [==============================] - 3s 1s/step - loss: 0.8010 - accuracy: 0.7634 - val_loss: 0.7364 - val_accuracy: 0.8333\n",
            "Epoch 19/128\n",
            "3/3 [==============================] - 4s 2s/step - loss: 0.5105 - accuracy: 0.7957 - val_loss: 1.0592 - val_accuracy: 0.7083\n",
            "Epoch 20/128\n",
            "3/3 [==============================] - 3s 1s/step - loss: 0.7553 - accuracy: 0.6774 - val_loss: 1.0171 - val_accuracy: 0.7917\n",
            "Epoch 21/128\n",
            "3/3 [==============================] - 3s 1s/step - loss: 0.7990 - accuracy: 0.7634 - val_loss: 1.3886 - val_accuracy: 0.8333\n",
            "Epoch 22/128\n",
            "3/3 [==============================] - 3s 1s/step - loss: 0.7919 - accuracy: 0.7634 - val_loss: 0.7558 - val_accuracy: 0.8750\n",
            "Epoch 23/128\n",
            "3/3 [==============================] - 5s 2s/step - loss: 0.5797 - accuracy: 0.7527 - val_loss: 1.4263 - val_accuracy: 0.7500\n",
            "Epoch 24/128\n",
            "3/3 [==============================] - 3s 1s/step - loss: 1.0207 - accuracy: 0.6559 - val_loss: 1.2112 - val_accuracy: 0.7083\n",
            "Epoch 25/128\n",
            "3/3 [==============================] - 3s 1s/step - loss: 1.0207 - accuracy: 0.6774 - val_loss: 0.9170 - val_accuracy: 0.7917\n",
            "Epoch 26/128\n",
            "3/3 [==============================] - 3s 1s/step - loss: 1.1090 - accuracy: 0.7419 - val_loss: 0.6939 - val_accuracy: 0.7917\n",
            "Epoch 27/128\n",
            "3/3 [==============================] - 4s 1s/step - loss: 0.5251 - accuracy: 0.8065 - val_loss: 0.8138 - val_accuracy: 0.7083\n",
            "Epoch 28/128\n",
            "3/3 [==============================] - 3s 1s/step - loss: 0.5059 - accuracy: 0.8280 - val_loss: 1.9958 - val_accuracy: 0.6667\n",
            "Epoch 29/128\n",
            "3/3 [==============================] - 3s 1s/step - loss: 0.7384 - accuracy: 0.8387 - val_loss: 0.9842 - val_accuracy: 0.6667\n",
            "Epoch 30/128\n",
            "3/3 [==============================] - 4s 2s/step - loss: 0.7612 - accuracy: 0.8172 - val_loss: 0.7281 - val_accuracy: 0.7500\n",
            "Epoch 31/128\n",
            "3/3 [==============================] - 5s 2s/step - loss: 0.4294 - accuracy: 0.8065 - val_loss: 0.7461 - val_accuracy: 0.8333\n",
            "Epoch 32/128\n",
            "3/3 [==============================] - 3s 1s/step - loss: 0.3958 - accuracy: 0.8602 - val_loss: 0.8079 - val_accuracy: 0.8333\n",
            "Epoch 33/128\n",
            "3/3 [==============================] - 4s 2s/step - loss: 0.3310 - accuracy: 0.9032 - val_loss: 0.7578 - val_accuracy: 0.8333\n",
            "Epoch 34/128\n",
            "3/3 [==============================] - 4s 1s/step - loss: 0.3474 - accuracy: 0.8817 - val_loss: 1.1005 - val_accuracy: 0.7917\n",
            "Epoch 35/128\n",
            "3/3 [==============================] - 3s 1s/step - loss: 0.3223 - accuracy: 0.9355 - val_loss: 0.9579 - val_accuracy: 0.7500\n",
            "Epoch 36/128\n",
            "3/3 [==============================] - 3s 1s/step - loss: 0.3450 - accuracy: 0.8710 - val_loss: 0.7803 - val_accuracy: 0.7917\n",
            "Epoch 37/128\n",
            "3/3 [==============================] - 5s 2s/step - loss: 0.5328 - accuracy: 0.8172 - val_loss: 0.7014 - val_accuracy: 0.8333\n",
            "Epoch 38/128\n",
            "3/3 [==============================] - 3s 1s/step - loss: 0.3722 - accuracy: 0.8495 - val_loss: 0.8177 - val_accuracy: 0.7917\n",
            "Epoch 39/128\n",
            "3/3 [==============================] - 3s 1s/step - loss: 0.5382 - accuracy: 0.8387 - val_loss: 1.0044 - val_accuracy: 0.7500\n",
            "Epoch 40/128\n",
            "3/3 [==============================] - 3s 1s/step - loss: 0.4551 - accuracy: 0.7957 - val_loss: 0.8389 - val_accuracy: 0.8333\n",
            "Epoch 41/128\n",
            "3/3 [==============================] - 4s 1s/step - loss: 0.4652 - accuracy: 0.8495 - val_loss: 0.7083 - val_accuracy: 0.8333\n",
            "Epoch 42/128\n",
            "3/3 [==============================] - 3s 1s/step - loss: 0.3146 - accuracy: 0.8710 - val_loss: 0.6825 - val_accuracy: 0.8750\n",
            "Epoch 43/128\n",
            "3/3 [==============================] - 3s 1s/step - loss: 0.2486 - accuracy: 0.9032 - val_loss: 0.7020 - val_accuracy: 0.9167\n",
            "Epoch 44/128\n",
            "3/3 [==============================] - 4s 2s/step - loss: 0.2039 - accuracy: 0.9140 - val_loss: 0.7789 - val_accuracy: 0.9167\n",
            "Epoch 45/128\n",
            "3/3 [==============================] - 4s 1s/step - loss: 0.1629 - accuracy: 0.9462 - val_loss: 0.8998 - val_accuracy: 0.8750\n",
            "Epoch 46/128\n",
            "3/3 [==============================] - 3s 1s/step - loss: 0.3552 - accuracy: 0.9140 - val_loss: 0.8939 - val_accuracy: 0.9167\n",
            "Epoch 47/128\n",
            "3/3 [==============================] - 3s 1s/step - loss: 0.2410 - accuracy: 0.8925 - val_loss: 0.7474 - val_accuracy: 0.8750\n",
            "Epoch 48/128\n",
            "3/3 [==============================] - 4s 2s/step - loss: 0.3050 - accuracy: 0.8817 - val_loss: 0.7122 - val_accuracy: 0.8333\n",
            "Epoch 49/128\n",
            "3/3 [==============================] - 3s 1s/step - loss: 0.5200 - accuracy: 0.8280 - val_loss: 1.1324 - val_accuracy: 0.8333\n",
            "Epoch 50/128\n",
            "3/3 [==============================] - 3s 1s/step - loss: 0.2918 - accuracy: 0.8710 - val_loss: 0.8525 - val_accuracy: 0.9167\n",
            "Epoch 51/128\n",
            "3/3 [==============================] - 3s 1s/step - loss: 0.3487 - accuracy: 0.9140 - val_loss: 1.0431 - val_accuracy: 0.8750\n",
            "Epoch 52/128\n",
            "3/3 [==============================] - 4s 1s/step - loss: 0.3132 - accuracy: 0.8710 - val_loss: 1.2105 - val_accuracy: 0.7500\n",
            "Epoch 53/128\n",
            "3/3 [==============================] - 3s 1s/step - loss: 0.3674 - accuracy: 0.8387 - val_loss: 1.5916 - val_accuracy: 0.7500\n",
            "Epoch 54/128\n",
            "3/3 [==============================] - 3s 1s/step - loss: 0.3288 - accuracy: 0.9247 - val_loss: 2.8772 - val_accuracy: 0.7500\n",
            "Epoch 55/128\n",
            "3/3 [==============================] - 4s 2s/step - loss: 0.5144 - accuracy: 0.8602 - val_loss: 1.6295 - val_accuracy: 0.9167\n",
            "Epoch 56/128\n",
            "3/3 [==============================] - 3s 1s/step - loss: 0.2653 - accuracy: 0.9140 - val_loss: 0.8000 - val_accuracy: 0.7917\n",
            "Epoch 57/128\n",
            "3/3 [==============================] - 3s 1s/step - loss: 0.5501 - accuracy: 0.8495 - val_loss: 0.7600 - val_accuracy: 0.8333\n",
            "Epoch 58/128\n",
            "3/3 [==============================] - 3s 1s/step - loss: 0.4789 - accuracy: 0.8710 - val_loss: 1.3338 - val_accuracy: 0.7500\n",
            "Epoch 59/128\n",
            "3/3 [==============================] - 4s 2s/step - loss: 0.4675 - accuracy: 0.8387 - val_loss: 5.8502 - val_accuracy: 0.7083\n",
            "Epoch 60/128\n",
            "3/3 [==============================] - 3s 1s/step - loss: 0.4476 - accuracy: 0.8280 - val_loss: 0.6711 - val_accuracy: 0.8333\n",
            "Epoch 61/128\n",
            "3/3 [==============================] - 3s 1s/step - loss: 0.3267 - accuracy: 0.9032 - val_loss: 0.6555 - val_accuracy: 0.8333\n",
            "Epoch 62/128\n",
            "3/3 [==============================] - 3s 1s/step - loss: 0.3670 - accuracy: 0.8602 - val_loss: 0.9214 - val_accuracy: 0.7917\n",
            "Epoch 63/128\n",
            "3/3 [==============================] - 5s 2s/step - loss: 0.4201 - accuracy: 0.8387 - val_loss: 0.7272 - val_accuracy: 0.8333\n",
            "Epoch 64/128\n",
            "3/3 [==============================] - 3s 1s/step - loss: 1.1972 - accuracy: 0.8495 - val_loss: 1.1640 - val_accuracy: 0.7917\n",
            "Epoch 65/128\n",
            "3/3 [==============================] - 3s 1s/step - loss: 0.9111 - accuracy: 0.7742 - val_loss: 0.6639 - val_accuracy: 0.8333\n",
            "Epoch 66/128\n",
            "3/3 [==============================] - 4s 1s/step - loss: 0.7993 - accuracy: 0.8602 - val_loss: 1.0327 - val_accuracy: 0.7083\n",
            "Epoch 67/128\n",
            "3/3 [==============================] - 4s 1s/step - loss: 0.5243 - accuracy: 0.8065 - val_loss: 1.3454 - val_accuracy: 0.5833\n",
            "Epoch 68/128\n",
            "3/3 [==============================] - 3s 1s/step - loss: 0.7255 - accuracy: 0.7742 - val_loss: 0.7980 - val_accuracy: 0.6667\n",
            "Epoch 69/128\n",
            "3/3 [==============================] - 3s 1s/step - loss: 0.4263 - accuracy: 0.8710 - val_loss: 0.4019 - val_accuracy: 0.8750\n",
            "Epoch 70/128\n",
            "3/3 [==============================] - 4s 2s/step - loss: 0.4010 - accuracy: 0.8817 - val_loss: 0.5959 - val_accuracy: 0.8750\n",
            "Epoch 71/128\n",
            "3/3 [==============================] - 3s 1s/step - loss: 0.8087 - accuracy: 0.8817 - val_loss: 0.8773 - val_accuracy: 0.7500\n",
            "Epoch 72/128\n",
            "3/3 [==============================] - 3s 1s/step - loss: 0.7094 - accuracy: 0.8172 - val_loss: 1.2249 - val_accuracy: 0.8333\n",
            "Epoch 73/128\n",
            "3/3 [==============================] - 3s 1s/step - loss: 0.4869 - accuracy: 0.8495 - val_loss: 2.2030 - val_accuracy: 0.7083\n",
            "Epoch 74/128\n",
            "3/3 [==============================] - 5s 1s/step - loss: 0.3326 - accuracy: 0.8925 - val_loss: 6.0994 - val_accuracy: 0.7500\n",
            "Epoch 75/128\n",
            "3/3 [==============================] - 3s 1s/step - loss: 0.5954 - accuracy: 0.8925 - val_loss: 1.9397 - val_accuracy: 0.7917\n",
            "Epoch 76/128\n",
            "3/3 [==============================] - 3s 1s/step - loss: 0.2369 - accuracy: 0.9140 - val_loss: 1.5936 - val_accuracy: 0.8333\n",
            "Epoch 77/128\n",
            "3/3 [==============================] - 4s 2s/step - loss: 0.3924 - accuracy: 0.9140 - val_loss: 2.8052 - val_accuracy: 0.8333\n",
            "Epoch 78/128\n",
            "3/3 [==============================] - 3s 1s/step - loss: 0.3529 - accuracy: 0.8925 - val_loss: 2.6701 - val_accuracy: 0.7500\n",
            "Epoch 79/128\n",
            "3/3 [==============================] - 3s 1s/step - loss: 0.2344 - accuracy: 0.8925 - val_loss: 1.8059 - val_accuracy: 0.8333\n",
            "Epoch 80/128\n",
            "3/3 [==============================] - 3s 1s/step - loss: 0.2198 - accuracy: 0.8925 - val_loss: 1.5109 - val_accuracy: 0.8750\n",
            "Epoch 81/128\n",
            "3/3 [==============================] - 5s 2s/step - loss: 0.2966 - accuracy: 0.8602 - val_loss: 1.5316 - val_accuracy: 0.8750\n",
            "Epoch 82/128\n",
            "3/3 [==============================] - 3s 1s/step - loss: 0.2298 - accuracy: 0.9140 - val_loss: 1.4162 - val_accuracy: 0.8750\n",
            "Epoch 83/128\n",
            "3/3 [==============================] - 3s 1s/step - loss: 0.1818 - accuracy: 0.9462 - val_loss: 1.1945 - val_accuracy: 0.8333\n",
            "Epoch 84/128\n",
            "3/3 [==============================] - 4s 2s/step - loss: 0.1291 - accuracy: 0.9570 - val_loss: 1.4589 - val_accuracy: 0.8750\n",
            "Epoch 85/128\n",
            "3/3 [==============================] - 3s 1s/step - loss: 0.1289 - accuracy: 0.9677 - val_loss: 1.2288 - val_accuracy: 0.8750\n",
            "Epoch 86/128\n",
            "3/3 [==============================] - 3s 1s/step - loss: 0.1269 - accuracy: 0.9462 - val_loss: 0.9326 - val_accuracy: 0.9167\n",
            "Epoch 87/128\n",
            "3/3 [==============================] - 3s 1s/step - loss: 0.2377 - accuracy: 0.9247 - val_loss: 1.2362 - val_accuracy: 0.8750\n",
            "Epoch 88/128\n",
            "3/3 [==============================] - 4s 2s/step - loss: 0.1316 - accuracy: 0.9462 - val_loss: 1.4818 - val_accuracy: 0.8333\n",
            "Epoch 89/128\n",
            "3/3 [==============================] - 3s 1s/step - loss: 0.1815 - accuracy: 0.9247 - val_loss: 1.6835 - val_accuracy: 0.8750\n",
            "Epoch 90/128\n",
            "3/3 [==============================] - 3s 1s/step - loss: 0.1405 - accuracy: 0.9570 - val_loss: 1.9549 - val_accuracy: 0.8750\n",
            "Epoch 91/128\n",
            "3/3 [==============================] - 3s 1s/step - loss: 0.2770 - accuracy: 0.9677 - val_loss: 1.9079 - val_accuracy: 0.8750\n",
            "Epoch 92/128\n",
            "3/3 [==============================] - 4s 2s/step - loss: 0.1000 - accuracy: 0.9570 - val_loss: 1.9984 - val_accuracy: 0.7917\n",
            "Epoch 93/128\n",
            "3/3 [==============================] - 3s 1s/step - loss: 0.1839 - accuracy: 0.9140 - val_loss: 2.1304 - val_accuracy: 0.7500\n",
            "Epoch 94/128\n",
            "3/3 [==============================] - 3s 1s/step - loss: 0.1466 - accuracy: 0.9355 - val_loss: 1.9048 - val_accuracy: 0.7917\n",
            "Epoch 95/128\n",
            "3/3 [==============================] - 4s 1s/step - loss: 0.2459 - accuracy: 0.9032 - val_loss: 1.8404 - val_accuracy: 0.8333\n",
            "Epoch 96/128\n",
            "3/3 [==============================] - 4s 1s/step - loss: 0.1799 - accuracy: 0.9247 - val_loss: 1.9683 - val_accuracy: 0.8333\n",
            "Epoch 97/128\n",
            "3/3 [==============================] - 3s 1s/step - loss: 0.3827 - accuracy: 0.9355 - val_loss: 2.8876 - val_accuracy: 0.8333\n",
            "Epoch 98/128\n",
            "3/3 [==============================] - 3s 1s/step - loss: 0.1286 - accuracy: 0.9462 - val_loss: 3.9434 - val_accuracy: 0.8750\n",
            "Epoch 99/128\n",
            "3/3 [==============================] - 4s 2s/step - loss: 0.2367 - accuracy: 0.9247 - val_loss: 4.0628 - val_accuracy: 0.7917\n",
            "Epoch 100/128\n",
            "3/3 [==============================] - 3s 1s/step - loss: 0.1464 - accuracy: 0.9570 - val_loss: 4.4021 - val_accuracy: 0.7917\n",
            "Epoch 101/128\n",
            "3/3 [==============================] - 3s 1s/step - loss: 0.1342 - accuracy: 0.9462 - val_loss: 4.7833 - val_accuracy: 0.7917\n",
            "Epoch 102/128\n",
            "3/3 [==============================] - 3s 1s/step - loss: 0.1207 - accuracy: 0.9570 - val_loss: 5.3827 - val_accuracy: 0.7500\n",
            "Epoch 103/128\n",
            "3/3 [==============================] - 5s 2s/step - loss: 0.3331 - accuracy: 0.9570 - val_loss: 3.6572 - val_accuracy: 0.7917\n",
            "Epoch 104/128\n",
            "3/3 [==============================] - 3s 1s/step - loss: 0.1205 - accuracy: 0.9570 - val_loss: 2.8933 - val_accuracy: 0.8750\n",
            "Epoch 105/128\n",
            "3/3 [==============================] - 3s 1s/step - loss: 0.1233 - accuracy: 0.9570 - val_loss: 3.7751 - val_accuracy: 0.8333\n",
            "Epoch 106/128\n",
            "3/3 [==============================] - 5s 2s/step - loss: 0.1412 - accuracy: 0.9355 - val_loss: 7.0546 - val_accuracy: 0.7500\n",
            "Epoch 107/128\n",
            "3/3 [==============================] - 4s 1s/step - loss: 1.1198 - accuracy: 0.9247 - val_loss: 2.2185 - val_accuracy: 0.8333\n",
            "Epoch 108/128\n",
            "3/3 [==============================] - 3s 1s/step - loss: 0.2938 - accuracy: 0.9355 - val_loss: 1.5174 - val_accuracy: 0.8333\n",
            "Epoch 109/128\n",
            "3/3 [==============================] - 3s 1s/step - loss: 0.4656 - accuracy: 0.8925 - val_loss: 1.2155 - val_accuracy: 0.7500\n",
            "Epoch 110/128\n",
            "3/3 [==============================] - 5s 2s/step - loss: 0.4216 - accuracy: 0.9247 - val_loss: 2.5724 - val_accuracy: 0.6667\n",
            "Epoch 111/128\n",
            "3/3 [==============================] - 3s 1s/step - loss: 0.6597 - accuracy: 0.8925 - val_loss: 0.9355 - val_accuracy: 0.7917\n",
            "Epoch 112/128\n",
            "3/3 [==============================] - 3s 1s/step - loss: 0.3292 - accuracy: 0.8710 - val_loss: 0.8713 - val_accuracy: 0.8333\n",
            "Epoch 113/128\n",
            "3/3 [==============================] - 3s 1s/step - loss: 0.2555 - accuracy: 0.9140 - val_loss: 0.8393 - val_accuracy: 0.9167\n",
            "Epoch 114/128\n",
            "3/3 [==============================] - 5s 2s/step - loss: 0.4646 - accuracy: 0.8710 - val_loss: 1.1718 - val_accuracy: 0.7917\n",
            "Epoch 115/128\n",
            "3/3 [==============================] - 3s 1s/step - loss: 0.3630 - accuracy: 0.8925 - val_loss: 1.4725 - val_accuracy: 0.7917\n",
            "Epoch 116/128\n",
            "3/3 [==============================] - 3s 1s/step - loss: 0.3949 - accuracy: 0.8710 - val_loss: 1.4070 - val_accuracy: 0.8333\n",
            "Epoch 117/128\n",
            "3/3 [==============================] - 3s 1s/step - loss: 0.3590 - accuracy: 0.8817 - val_loss: 1.4840 - val_accuracy: 0.8333\n",
            "Epoch 118/128\n",
            "3/3 [==============================] - 5s 1s/step - loss: 0.3109 - accuracy: 0.8817 - val_loss: 1.7426 - val_accuracy: 0.7917\n",
            "Epoch 119/128\n",
            "3/3 [==============================] - 3s 1s/step - loss: 0.4766 - accuracy: 0.8710 - val_loss: 2.2674 - val_accuracy: 0.7083\n",
            "Epoch 120/128\n",
            "3/3 [==============================] - 3s 1s/step - loss: 0.2500 - accuracy: 0.9032 - val_loss: 1.9028 - val_accuracy: 0.7917\n",
            "Epoch 121/128\n",
            "3/3 [==============================] - 4s 1s/step - loss: 0.2101 - accuracy: 0.9247 - val_loss: 1.8219 - val_accuracy: 0.8333\n",
            "Epoch 122/128\n",
            "3/3 [==============================] - 4s 1s/step - loss: 0.2055 - accuracy: 0.9032 - val_loss: 1.8241 - val_accuracy: 0.8333\n",
            "Epoch 123/128\n",
            "3/3 [==============================] - 3s 1s/step - loss: 0.1849 - accuracy: 0.9355 - val_loss: 1.8250 - val_accuracy: 0.8333\n",
            "Epoch 124/128\n",
            "3/3 [==============================] - 3s 1s/step - loss: 0.2055 - accuracy: 0.9247 - val_loss: 1.8796 - val_accuracy: 0.8333\n",
            "Epoch 125/128\n",
            "3/3 [==============================] - 4s 2s/step - loss: 0.1631 - accuracy: 0.9355 - val_loss: 2.0997 - val_accuracy: 0.8333\n",
            "Epoch 126/128\n",
            "3/3 [==============================] - 3s 1s/step - loss: 0.3096 - accuracy: 0.8602 - val_loss: 2.2016 - val_accuracy: 0.8333\n",
            "Epoch 127/128\n",
            "3/3 [==============================] - 3s 1s/step - loss: 0.2598 - accuracy: 0.8710 - val_loss: 2.0127 - val_accuracy: 0.8333\n",
            "Epoch 128/128\n",
            "3/3 [==============================] - 4s 1s/step - loss: 0.1859 - accuracy: 0.9140 - val_loss: 2.0254 - val_accuracy: 0.8750\n"
          ]
        },
        {
          "output_type": "execute_result",
          "data": {
            "text/plain": [
              "<keras.callbacks.History at 0x7ea73411b610>"
            ]
          },
          "metadata": {},
          "execution_count": 8
        }
      ]
    },
    {
      "cell_type": "markdown",
      "source": [
        "**Fetching test data**"
      ],
      "metadata": {
        "id": "-m-4fKO4XSeI"
      }
    },
    {
      "cell_type": "code",
      "source": [
        "test_data=[]\n",
        "for imgs in os.listdir('testing'):\n",
        "  test_data=cv2.imread(os.path.join('testing', imgs))\n",
        "  if test_data is not None:\n",
        "    test_data=cv2.resize(test_data,(128,128), cv2.INTER_LINEAR) #resizing each image\n",
        "\n",
        "finaldata=numpy.expand_dims(test_data,axis=0) #Adding a dimension\n"
      ],
      "metadata": {
        "id": "sNK6UmrrnRHA"
      },
      "execution_count": 9,
      "outputs": []
    },
    {
      "cell_type": "markdown",
      "source": [
        "**Evaluating the model**"
      ],
      "metadata": {
        "id": "y0mTLuL7YTPr"
      }
    },
    {
      "cell_type": "code",
      "source": [
        "predictions = model.predict(finaldata)\n",
        "\n",
        "predicted_labels = numpy.argmax(predictions, axis=0)\n",
        "\n",
        "accuracy = numpy.mean(predicted_labels == numLabel)\n",
        "print(f\"Accuracy: {accuracy:.2f}\")"
      ],
      "metadata": {
        "colab": {
          "base_uri": "https://localhost:8080/"
        },
        "id": "5ek1KOxY3oPx",
        "outputId": "dc3ece15-153d-413e-d38e-56d16b35639a"
      },
      "execution_count": 39,
      "outputs": [
        {
          "output_type": "stream",
          "name": "stdout",
          "text": [
            "1/1 [==============================] - 0s 34ms/step\n",
            "Accuracy: 0.89\n"
          ]
        }
      ]
    },
    {
      "cell_type": "code",
      "source": [
        "print(predictions)"
      ],
      "metadata": {
        "colab": {
          "base_uri": "https://localhost:8080/"
        },
        "id": "eCy83sdTYdbH",
        "outputId": "59de992e-b6f3-49fd-b25f-71be60b1b68f"
      },
      "execution_count": 11,
      "outputs": [
        {
          "output_type": "stream",
          "name": "stdout",
          "text": [
            "[[1.3187557e-03 3.2491700e-04 2.4102332e-05 1.3272325e-04 3.1977714e-04\n",
            "  5.3113374e-05 1.5989825e-03 9.9357259e-01 2.6550116e-03]]\n"
          ]
        }
      ]
    },
    {
      "cell_type": "markdown",
      "source": [
        "**Testing random image from the internet**\n"
      ],
      "metadata": {
        "id": "zr17GVSCxSfs"
      }
    },
    {
      "cell_type": "code",
      "source": [
        "test_img=cv2.imread(\"/content/testing/40.jpeg\")\n",
        "test_img=cv2.resize(test_img,(128,128), cv2.INTER_LINEAR)\n",
        "final= numpy.expand_dims(test_img,axis=0)\n",
        "pred = model.predict(final)\n",
        "\n",
        "predicted_lab = numpy.argmax(pred[0], axis=0)\n",
        "accuracy = numpy.mean(predicted_lab == numLabel)\n",
        "print(predicted_lab)\n",
        "print(pred)\n",
        "\n",
        "print(\"prediction:\", categories[predicted_lab])\n",
        "print(accuracy)\n"
      ],
      "metadata": {
        "colab": {
          "base_uri": "https://localhost:8080/"
        },
        "id": "yvV59ERGxSG5",
        "outputId": "691fd75b-0fb3-4f59-91a7-dc8c3f7337c6"
      },
      "execution_count": 55,
      "outputs": [
        {
          "output_type": "stream",
          "name": "stdout",
          "text": [
            "1/1 [==============================] - 0s 30ms/step\n",
            "6\n",
            "[[8.5179158e-34 1.4657226e-35 3.0130843e-34 7.4643997e-34 4.8224571e-31\n",
            "  0.0000000e+00 1.0000000e+00 1.2786445e-29 0.0000000e+00]]\n",
            "prediction: green\n",
            "0.0\n"
          ]
        }
      ]
    }
  ]
}